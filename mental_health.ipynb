{
 "cells": [
  {
   "cell_type": "code",
   "execution_count": 54,
   "id": "fd90b0a0",
   "metadata": {},
   "outputs": [],
   "source": [
    "# Import necessary libraries\n",
    "import pandas as pd\n",
    "from sklearn.model_selection import train_test_split, cross_val_score\n",
    "from sklearn.preprocessing import StandardScaler\n",
    "from sklearn.linear_model import LogisticRegression\n",
    "from sklearn.tree import DecisionTreeClassifier\n",
    "from sklearn.ensemble import RandomForestClassifier, GradientBoostingClassifier\n",
    "from sklearn.svm import SVC\n",
    "from sklearn.neighbors import KNeighborsClassifier\n",
    "from sklearn.metrics import classification_report, confusion_matrix\n",
    "import pickle\n",
    "import warnings"
   ]
  },
  {
   "cell_type": "code",
   "execution_count": 55,
   "id": "1ca8f35d",
   "metadata": {},
   "outputs": [],
   "source": [
    "# Load your dataset\n",
    "# Ensure your dataset is in the right format: features and target columns\n",
    "df = pd.read_excel('Mental disorder symptoms.xlsx')"
   ]
  },
  {
   "cell_type": "code",
   "execution_count": 56,
   "id": "cc912e20",
   "metadata": {},
   "outputs": [],
   "source": [
    "# Define features and target\n",
    "X = df.drop('Disorder', axis=1)\n",
    "y = df['Disorder']"
   ]
  },
  {
   "cell_type": "code",
   "execution_count": 57,
   "id": "83fe5463",
   "metadata": {},
   "outputs": [],
   "source": [
    "# Split the dataset into training and testing sets\n",
    "X_train, X_test, y_train, y_test = train_test_split(X, y, test_size=0.2, random_state=42)"
   ]
  },
  {
   "cell_type": "code",
   "execution_count": 58,
   "id": "b794fedc",
   "metadata": {},
   "outputs": [],
   "source": [
    "# Initialize and train Logistic Regression model\n",
    "log_reg = LogisticRegression(multi_class='multinomial', solver='lbfgs')\n",
    "log_reg.fit(X_train, y_train)\n",
    "y_pred_log_reg = log_reg.predict(X_test)"
   ]
  },
  {
   "cell_type": "code",
   "execution_count": 59,
   "id": "c1bdfdba",
   "metadata": {},
   "outputs": [],
   "source": [
    "# Initialize and train Decision Tree model\n",
    "decision_tree = DecisionTreeClassifier(random_state=42)\n",
    "decision_tree.fit(X_train, y_train)\n",
    "y_pred_tree = decision_tree.predict(X_test)"
   ]
  },
  {
   "cell_type": "code",
   "execution_count": 60,
   "id": "a3cfc2a6",
   "metadata": {},
   "outputs": [],
   "source": [
    "# Initialize and train Random Forest model\n",
    "random_forest = RandomForestClassifier(n_estimators=100, random_state=42)\n",
    "random_forest.fit(X_train, y_train)\n",
    "y_pred_forest = random_forest.predict(X_test)"
   ]
  },
  {
   "cell_type": "code",
   "execution_count": 61,
   "id": "ee21b832",
   "metadata": {},
   "outputs": [],
   "source": [
    "# Initialize and train Support Vector Machine model\n",
    "svm = SVC(kernel='linear', random_state=42)\n",
    "svm.fit(X_train, y_train)\n",
    "y_pred_svm = svm.predict(X_test)"
   ]
  },
  {
   "cell_type": "code",
   "execution_count": 62,
   "id": "9c76ad1b",
   "metadata": {},
   "outputs": [],
   "source": [
    "# Initialize and train Gradient Boosting model\n",
    "gradient_boosting = GradientBoostingClassifier(random_state=42)\n",
    "gradient_boosting.fit(X_train, y_train)\n",
    "y_pred_gb = gradient_boosting.predict(X_test)"
   ]
  },
  {
   "cell_type": "code",
   "execution_count": 1,
   "id": "5390fcad",
   "metadata": {},
   "outputs": [],
   "source": [
    "# Function to evaluate and print metrics\n",
    "def evaluate_model(y_true, y_pred, model_name):\n",
    "    print(f\"\\n{model_name} Classification Report:\\n\", classification_report(y_true, y_pred))\n",
    "    print(f\"{model_name} Accuracy:\", accuracy_score(y_true, y_pred))"
   ]
  },
  {
   "cell_type": "code",
   "execution_count": 64,
   "id": "582a232a",
   "metadata": {},
   "outputs": [],
   "source": [
    "# Save the trained models using pickle\n",
    "models = {\n",
    "    'Logistic Regression': log_reg,\n",
    "    'Decision Tree': decision_tree,\n",
    "    'Random Forest': random_forest,\n",
    "    'SVM': svm,\n",
    "    'Gradient Boosting': gradient_boosting\n",
    "}"
   ]
  },
  {
   "cell_type": "code",
   "execution_count": 65,
   "id": "7d5aa89c",
   "metadata": {},
   "outputs": [
    {
     "name": "stdout",
     "output_type": "stream",
     "text": [
      "Logistic Regression model saved as logistic_regression_model.pkl\n",
      "Decision Tree model saved as decision_tree_model.pkl\n",
      "Random Forest model saved as random_forest_model.pkl\n",
      "SVM model saved as svm_model.pkl\n",
      "Gradient Boosting model saved as gradient_boosting_model.pkl\n"
     ]
    }
   ],
   "source": [
    "for model_name, model in models.items():\n",
    "    with open(f'{model_name.replace(\" \", \"_\").lower()}_model.pkl', 'wb') as file:\n",
    "        pickle.dump(model, file)\n",
    "    print(f\"{model_name} model saved as {model_name.replace(' ', '_').lower()}_model.pkl\")"
   ]
  },
  {
   "cell_type": "code",
   "execution_count": 66,
   "id": "5e745b4e",
   "metadata": {},
   "outputs": [
    {
     "name": "stdout",
     "output_type": "stream",
     "text": [
      "Logistic Regression Cross-Validation Scores: [0.97058824 0.99019608 0.94117647 0.98039216 0.96039604]\n",
      "Mean Cross-Validation Score: 0.9685497961560863\n"
     ]
    }
   ],
   "source": [
    "from sklearn.model_selection import cross_val_score\n",
    "\n",
    "# Example for Logistic Regression\n",
    "log_reg_cv_scores = cross_val_score(LogisticRegression(multi_class='multinomial', solver='lbfgs'), \n",
    "                                     X_train, y_train, cv=5)\n",
    "print(\"Logistic Regression Cross-Validation Scores:\", log_reg_cv_scores)\n",
    "print(\"Mean Cross-Validation Score:\", log_reg_cv_scores.mean())\n"
   ]
  },
  {
   "cell_type": "code",
   "execution_count": 67,
   "id": "a4839ca0",
   "metadata": {},
   "outputs": [],
   "source": [
    "# Define a function to evaluate and cross-validate models\n",
    "def evaluate_model_with_cv(model, X_train, y_train, model_name):\n",
    "    cv_scores = cross_val_score(model, X_train, y_train, cv=5)  # 5-fold cross-validation\n",
    "    print(f\"{model_name} Cross-Validation Scores: {cv_scores}\")\n",
    "    print(f\"Mean Cross-Validation Score for {model_name}: {cv_scores.mean():.4f}\")"
   ]
  },
  {
   "cell_type": "code",
   "execution_count": 68,
   "id": "a1cecfff",
   "metadata": {},
   "outputs": [],
   "source": [
    "# Initialize and evaluate models with cross-validation\n",
    "models = {\n",
    "    'Logistic Regression': LogisticRegression(multi_class='multinomial', solver='lbfgs'),\n",
    "    'Decision Tree': DecisionTreeClassifier(random_state=42),\n",
    "    'Random Forest': RandomForestClassifier(n_estimators=100, random_state=42),\n",
    "    'SVM': SVC(kernel='linear', random_state=42),\n",
    "    'Gradient Boosting': GradientBoostingClassifier(random_state=42)\n",
    "}"
   ]
  },
  {
   "cell_type": "code",
   "execution_count": 69,
   "id": "0c825398",
   "metadata": {},
   "outputs": [
    {
     "name": "stdout",
     "output_type": "stream",
     "text": [
      "Logistic Regression Cross-Validation Scores: [0.97058824 0.99019608 0.94117647 0.98039216 0.96039604]\n",
      "Mean Cross-Validation Score for Logistic Regression: 0.9685\n",
      "Decision Tree Cross-Validation Scores: [0.97058824 0.99019608 0.98039216 1.         0.99009901]\n",
      "Mean Cross-Validation Score for Decision Tree: 0.9863\n",
      "Random Forest Cross-Validation Scores: [0.97058824 0.99019608 0.96078431 1.         0.99009901]\n",
      "Mean Cross-Validation Score for Random Forest: 0.9823\n",
      "SVM Cross-Validation Scores: [0.97058824 1.         0.94117647 0.98039216 0.96039604]\n",
      "Mean Cross-Validation Score for SVM: 0.9705\n",
      "Gradient Boosting Cross-Validation Scores: [0.97058824 0.99019608 0.98039216 0.99019608 0.99009901]\n",
      "Mean Cross-Validation Score for Gradient Boosting: 0.9843\n"
     ]
    }
   ],
   "source": [
    "warnings.filterwarnings(\"ignore\")\n",
    "for model_name, model in models.items():\n",
    "    evaluate_model_with_cv(model, X_train, y_train, model_name)"
   ]
  },
  {
   "cell_type": "code",
   "execution_count": 70,
   "id": "0682c888",
   "metadata": {},
   "outputs": [],
   "source": [
    "warnings.filterwarnings(\"ignore\")\n",
    "# Train and evaluate models on the test set\n",
    "for model_name, model in models.items():\n",
    "    model.fit(X_train, y_train)\n",
    "    y_pred = model.predict(X_test)"
   ]
  },
  {
   "cell_type": "code",
   "execution_count": 71,
   "id": "1855e855",
   "metadata": {},
   "outputs": [
    {
     "data": {
      "text/plain": [
       "array(['sleeping disorder'], dtype=object)"
      ]
     },
     "execution_count": 71,
     "metadata": {},
     "output_type": "execute_result"
    }
   ],
   "source": [
    "warnings.filterwarnings(\"ignore\")\n",
    "# Train and evaluate models on the test set\n",
    "# Example usage of the prediction function\n",
    "# Replace with actual input values\n",
    "example = [[29,0,0,0,0,0,1,1,0,0,0,0,0,1,1,0,0,0,1,0,0,0,1,0,0,0,0,0]]\n",
    "#example=scaler.fit_transform(example)# Update with actual feature values\n",
    "y_pred = model.predict(example)\n",
    "y_pred"
   ]
  },
  {
   "cell_type": "code",
   "execution_count": 72,
   "id": "1c5742a4",
   "metadata": {},
   "outputs": [
    {
     "name": "stdout",
     "output_type": "stream",
     "text": [
      "Logistic Regression model saved as logistic_regression_model.pkl\n",
      "Decision Tree model saved as decision_tree_model.pkl\n",
      "Random Forest model saved as random_forest_model.pkl\n",
      "SVM model saved as svm_model.pkl\n",
      "Gradient Boosting model saved as gradient_boosting_model.pkl\n"
     ]
    }
   ],
   "source": [
    "# Save the trained models using pickle\n",
    "for model_name, model in models.items():\n",
    "    with open(f'{model_name.replace(\" \", \"_\").lower()}_model.pkl', 'wb') as file:\n",
    "    pickle.dump(model, file)\n",
    "    print(f\"{model_name} model saved as {model_name.replace(' ', '_').lower()}_model.pkl\")"
   ]
  },
  {
   "cell_type": "code",
   "execution_count": 73,
   "id": "74fd4620",
   "metadata": {},
   "outputs": [
    {
     "name": "stdout",
     "output_type": "stream",
     "text": [
      "['Logistic Regression:sleeping disorder']\n",
      "['Decision Tree:sleeping disorder']\n",
      "['Random Forest:sleeping disorder']\n",
      "['SVM:sleeping disorder']\n",
      "['Gradient Boosting:sleeping disorder']\n"
     ]
    }
   ],
   "source": [
    "# Example usage of the prediction function\n",
    "# Replace with actual input values\n",
    "example = [[29,0,0,0,0,0,1,1,0,0,0,0,0,1,1,0,0,0,1,0,0,0,1,0,0,0,0,0]]  # Update with actual feature values\n",
    "for model_name, model in models.items():\n",
    "    y_pred = model.predict(example)\n",
    "    print(f\"{model_name}:\"+ y_pred)"
   ]
  },
  {
   "cell_type": "code",
   "execution_count": null,
   "id": "fd92863a",
   "metadata": {},
   "outputs": [],
   "source": []
  }
 ],
 "metadata": {
  "kernelspec": {
   "display_name": "Python 3 (ipykernel)",
   "language": "python",
   "name": "python3"
  },
  "language_info": {
   "codemirror_mode": {
    "name": "ipython",
    "version": 3
   },
   "file_extension": ".py",
   "mimetype": "text/x-python",
   "name": "python",
   "nbconvert_exporter": "python",
   "pygments_lexer": "ipython3",
   "version": "3.11.5"
  }
 },
 "nbformat": 4,
 "nbformat_minor": 5
}
