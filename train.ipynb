{
 "cells": [
  {
   "cell_type": "code",
   "execution_count": 10,
   "id": "0f0be1a5",
   "metadata": {},
   "outputs": [],
   "source": [
    "# Import necessary libraries\n",
    "import pandas as pd\n",
    "from sklearn.model_selection import train_test_split, cross_val_score\n",
    "from sklearn.preprocessing import StandardScaler\n",
    "from sklearn.linear_model import LogisticRegression\n",
    "from sklearn.tree import DecisionTreeClassifier\n",
    "from sklearn.ensemble import RandomForestClassifier, GradientBoostingClassifier\n",
    "from sklearn.svm import SVC\n",
    "from sklearn.neighbors import KNeighborsClassifier\n",
    "from sklearn.metrics import classification_report, confusion_matrix\n",
    "import pickle\n",
    "import warnings"
   ]
  },
  {
   "cell_type": "code",
   "execution_count": 11,
   "id": "6bbf14ff",
   "metadata": {},
   "outputs": [],
   "source": [
    "# Load your dataset\n",
    "# Ensure your dataset is in the right format: features and target columns\n",
    "df = pd.read_excel('MH_test.xlsx')\n",
    "df1 = pd.read_excel('MH_train.xlsx')"
   ]
  },
  {
   "cell_type": "code",
   "execution_count": 12,
   "id": "d953c6a0",
   "metadata": {},
   "outputs": [
    {
     "data": {
      "text/plain": [
       "array(['Generalized Anxiety Disorder (GAD)',\n",
       "       'Major Depressive Disorder (Depression)', 'Panic Disorder',\n",
       "       'Post-Traumatic Stress Disorder (PTSD)', 'Social Anxiety Disorder',\n",
       "       'Attention-Deficit/Hyperactivity Disorder (ADHD)',\n",
       "       'Borderline Personality Disorder (BPD)', 'Schizophrenia',\n",
       "       'Obsessive-Compulsive Disorder (OCD)',\n",
       "       'Seasonal Affective Disorder (SAD)', 'Bipolar Disorder',\n",
       "       \"We're glad to inform you that you are perfectly alright! It's always good to check in on your well-being, and it's great to see that you are feeling well. Remember to take care of yourself and maintain a healthy lifestyle\",\n",
       "       \"We understand that you may be experiencing a range of symptoms that can be concerning. It's important to prioritize your health and well-being. We kindly suggest that you visit your nearest hospital or healthcare provider for a comprehensive evaluation and support. Your safety is our priority, and seeking professional help can make a significant difference.\"],\n",
       "      dtype=object)"
      ]
     },
     "execution_count": 12,
     "metadata": {},
     "output_type": "execute_result"
    }
   ],
   "source": [
    "Disorders = df1.Disorder.unique()\n",
    "Disorders"
   ]
  },
  {
   "cell_type": "code",
   "execution_count": 13,
   "id": "bb0e6579",
   "metadata": {},
   "outputs": [],
   "source": [
    "# Define features and target\n",
    "X_test = df.drop(['Disorder','Age'], axis=1)\n",
    "y_test = df['Disorder']\n",
    "\n",
    "X_train = df1.drop('Disorder', axis=1)\n",
    "y_train = df1['Disorder']"
   ]
  },
  {
   "cell_type": "code",
   "execution_count": 14,
   "id": "b794fedc",
   "metadata": {},
   "outputs": [],
   "source": [
    "# Initialize and train Logistic Regression model\n",
    "log_reg = LogisticRegression(multi_class='multinomial', solver='lbfgs')\n",
    "log_reg.fit(X_train, y_train)\n",
    "y_pred_log_reg = log_reg.predict(X_test)"
   ]
  },
  {
   "cell_type": "code",
   "execution_count": 15,
   "id": "c1bdfdba",
   "metadata": {},
   "outputs": [],
   "source": [
    "# Initialize and train Decision Tree model\n",
    "decision_tree = DecisionTreeClassifier(random_state=42)\n",
    "decision_tree.fit(X_train, y_train)\n",
    "y_pred_tree = decision_tree.predict(X_test)"
   ]
  },
  {
   "cell_type": "code",
   "execution_count": 16,
   "id": "a3cfc2a6",
   "metadata": {},
   "outputs": [],
   "source": [
    "# Initialize and train Random Forest model\n",
    "random_forest = RandomForestClassifier(n_estimators=100, random_state=42)\n",
    "random_forest.fit(X_train, y_train)\n",
    "y_pred_forest = random_forest.predict(X_test)"
   ]
  },
  {
   "cell_type": "code",
   "execution_count": 17,
   "id": "ee21b832",
   "metadata": {},
   "outputs": [],
   "source": [
    "# Initialize and train Support Vector Machine model\n",
    "svm = SVC(kernel='linear', random_state=42)\n",
    "svm.fit(X_train, y_train)\n",
    "y_pred_svm = svm.predict(X_test)"
   ]
  },
  {
   "cell_type": "code",
   "execution_count": 18,
   "id": "9c76ad1b",
   "metadata": {},
   "outputs": [],
   "source": [
    "# Initialize and train Gradient Boosting model\n",
    "gradient_boosting = GradientBoostingClassifier(random_state=42)\n",
    "gradient_boosting.fit(X_train, y_train)\n",
    "y_pred_gb = gradient_boosting.predict(X_test)"
   ]
  },
  {
   "cell_type": "code",
   "execution_count": 19,
   "id": "6017e012",
   "metadata": {},
   "outputs": [],
   "source": [
    "# Initialize and evaluate models with cross-validation\n",
    "models = {\n",
    "    'Logistic Regression': LogisticRegression(multi_class='multinomial', solver='lbfgs'),\n",
    "    'Decision Tree': DecisionTreeClassifier(random_state=42),\n",
    "    'Random Forest': RandomForestClassifier(n_estimators=100, random_state=42),\n",
    "    'SVM': SVC(kernel='linear', random_state=42),\n",
    "    'Gradient Boosting': GradientBoostingClassifier(random_state=42)\n",
    "}"
   ]
  },
  {
   "cell_type": "code",
   "execution_count": 20,
   "id": "9eb70fd5",
   "metadata": {},
   "outputs": [],
   "source": [
    "warnings.filterwarnings(\"ignore\")\n",
    "# Train and evaluate models on the test set\n",
    "for model_name, model in models.items():\n",
    "    model.fit(X_train, y_train)\n",
    "    y_pred = model.predict(X_test)"
   ]
  },
  {
   "cell_type": "code",
   "execution_count": 21,
   "id": "632a361f",
   "metadata": {},
   "outputs": [],
   "source": [
    "predictions = {}\n",
    "# Create a DataFrame with your predictions\n",
    "for model_name, model in models.items():\n",
    "    predictions[model_name] = y_pred\n",
    "# Create a DataFrame with the predictions\n",
    "predictions_df = pd.DataFrame(predictions)\n",
    "# Save the DataFrame to a CSV file\n",
    "predictions_df.to_csv('predictions.csv', index=False)"
   ]
  },
  {
   "cell_type": "code",
   "execution_count": 22,
   "id": "e05f6616",
   "metadata": {},
   "outputs": [
    {
     "name": "stdout",
     "output_type": "stream",
     "text": [
      "Logistic Regression :['Post-Traumatic Stress Disorder (PTSD)']\n",
      "Decision Tree :['Post-Traumatic Stress Disorder (PTSD)']\n",
      "Random Forest :['Post-Traumatic Stress Disorder (PTSD)']\n",
      "SVM :['Post-Traumatic Stress Disorder (PTSD)']\n",
      "Gradient Boosting :['Post-Traumatic Stress Disorder (PTSD)']\n"
     ]
    }
   ],
   "source": [
    "# Example usage of the prediction function\n",
    "# Replace with actual input values\n",
    "example = [[1,0,1,1,0,0,0,0,0,1,0,0,0,1,0,0,0,1,0,0,0,1,0,0,0,0,0]] # Update with actual feature values\n",
    "for model_name, model in models.items():\n",
    "    y_pred = model.predict(example)\n",
    "    print(f\"{model_name} :{y_pred}\")"
   ]
  },
  {
   "cell_type": "code",
   "execution_count": 23,
   "id": "5cb70d5c",
   "metadata": {},
   "outputs": [
    {
     "name": "stdout",
     "output_type": "stream",
     "text": [
      "Logistic Regression :[\"We understand that you may be experiencing a range of symptoms that can be concerning. It's important to prioritize your health and well-being. We kindly suggest that you visit your nearest hospital or healthcare provider for a comprehensive evaluation and support. Your safety is our priority, and seeking professional help can make a significant difference.\"]\n",
      "Decision Tree :['Social Anxiety Disorder']\n",
      "Random Forest :['Post-Traumatic Stress Disorder (PTSD)']\n",
      "SVM :[\"We understand that you may be experiencing a range of symptoms that can be concerning. It's important to prioritize your health and well-being. We kindly suggest that you visit your nearest hospital or healthcare provider for a comprehensive evaluation and support. Your safety is our priority, and seeking professional help can make a significant difference.\"]\n",
      "Gradient Boosting :['Obsessive-Compulsive Disorder (OCD)']\n"
     ]
    }
   ],
   "source": [
    "e=[[0,2,2,0,2,2,2,0,2,0,2,0,0,2,2,0,0,2,2,2,0,0,2,2,2,0,0]]\n",
    "for model_name, model in models.items():\n",
    "    y_pred = model.predict(e)\n",
    "    print(f\"{model_name} :{y_pred}\")"
   ]
  },
  {
   "cell_type": "code",
   "execution_count": null,
   "id": "ad71feb3",
   "metadata": {},
   "outputs": [],
   "source": []
  },
  {
   "cell_type": "code",
   "execution_count": null,
   "id": "e5bc32e0",
   "metadata": {},
   "outputs": [],
   "source": []
  }
 ],
 "metadata": {
  "kernelspec": {
   "display_name": "Python 3 (ipykernel)",
   "language": "python",
   "name": "python3"
  },
  "language_info": {
   "codemirror_mode": {
    "name": "ipython",
    "version": 3
   },
   "file_extension": ".py",
   "mimetype": "text/x-python",
   "name": "python",
   "nbconvert_exporter": "python",
   "pygments_lexer": "ipython3",
   "version": "3.11.5"
  }
 },
 "nbformat": 4,
 "nbformat_minor": 5
}
