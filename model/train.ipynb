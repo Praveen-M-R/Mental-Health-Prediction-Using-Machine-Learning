{
 "cells": [
  {
   "cell_type": "code",
   "execution_count": 34,
   "id": "0f0be1a5",
   "metadata": {},
   "outputs": [],
   "source": [
    "# Import necessary libraries\n",
    "import pandas as pd\n",
    "from sklearn.model_selection import train_test_split, cross_val_score\n",
    "from sklearn.preprocessing import StandardScaler\n",
    "from sklearn.linear_model import LogisticRegression\n",
    "from sklearn.tree import DecisionTreeClassifier\n",
    "from sklearn.ensemble import RandomForestClassifier, GradientBoostingClassifier\n",
    "from sklearn.svm import SVC\n",
    "from sklearn.neighbors import KNeighborsClassifier\n",
    "from sklearn.metrics import classification_report, confusion_matrix\n",
    "import pickle\n",
    "import warnings"
   ]
  },
  {
   "cell_type": "code",
   "execution_count": 35,
   "id": "6bbf14ff",
   "metadata": {},
   "outputs": [],
   "source": [
    "# Load your dataset\n",
    "# Ensure your dataset is in the right format: features and target columns\n",
    "df = pd.read_excel('MH_test.xlsx')\n",
    "df1 = pd.read_excel('MH_train.xlsx')"
   ]
  },
  {
   "cell_type": "code",
   "execution_count": 36,
   "id": "d953c6a0",
   "metadata": {},
   "outputs": [
    {
     "data": {
      "text/plain": [
       "array(['Generalized Anxiety Disorder (GAD)',\n",
       "       'Major Depressive Disorder (Depression)', 'Panic Disorder',\n",
       "       'Post-Traumatic Stress Disorder (PTSD)', 'Social Anxiety Disorder',\n",
       "       'Attention-Deficit/Hyperactivity Disorder (ADHD)',\n",
       "       'Borderline Personality Disorder (BPD)', 'Schizophrenia',\n",
       "       'Obsessive-Compulsive Disorder (OCD)',\n",
       "       'Seasonal Affective Disorder (SAD)', 'Bipolar Disorder',\n",
       "       'No disorder you are perfectly alright'], dtype=object)"
      ]
     },
     "execution_count": 36,
     "metadata": {},
     "output_type": "execute_result"
    }
   ],
   "source": [
    "Disorders = df1.Disorder.unique()\n",
    "Disorders"
   ]
  },
  {
   "cell_type": "code",
   "execution_count": 37,
   "id": "5a29b033",
   "metadata": {},
   "outputs": [
    {
     "data": {
      "text/html": [
       "<div>\n",
       "<style scoped>\n",
       "    .dataframe tbody tr th:only-of-type {\n",
       "        vertical-align: middle;\n",
       "    }\n",
       "\n",
       "    .dataframe tbody tr th {\n",
       "        vertical-align: top;\n",
       "    }\n",
       "\n",
       "    .dataframe thead th {\n",
       "        text-align: right;\n",
       "    }\n",
       "</style>\n",
       "<table border=\"1\" class=\"dataframe\">\n",
       "  <thead>\n",
       "    <tr style=\"text-align: right;\">\n",
       "      <th></th>\n",
       "      <th>Nervous</th>\n",
       "      <th>Panic</th>\n",
       "      <th>Rapid_breathing</th>\n",
       "      <th>Excessive_Sweat</th>\n",
       "      <th>Trouble_task</th>\n",
       "      <th>Trouble_sleeping</th>\n",
       "      <th>Trouble_work</th>\n",
       "      <th>Hopeless</th>\n",
       "      <th>Angry</th>\n",
       "      <th>Over_react</th>\n",
       "      <th>...</th>\n",
       "      <th>Nightmare</th>\n",
       "      <th>Avoid</th>\n",
       "      <th>Feeling_negative</th>\n",
       "      <th>Trouble_concentrating</th>\n",
       "      <th>Blame_yourself</th>\n",
       "      <th>Hallucinations</th>\n",
       "      <th>Repetitive_behavior</th>\n",
       "      <th>Seasonal_depression</th>\n",
       "      <th>Increase_energy</th>\n",
       "      <th>Disorder</th>\n",
       "    </tr>\n",
       "  </thead>\n",
       "  <tbody>\n",
       "    <tr>\n",
       "      <th>0</th>\n",
       "      <td>2</td>\n",
       "      <td>0</td>\n",
       "      <td>0</td>\n",
       "      <td>0</td>\n",
       "      <td>0</td>\n",
       "      <td>2</td>\n",
       "      <td>2</td>\n",
       "      <td>2</td>\n",
       "      <td>0</td>\n",
       "      <td>0</td>\n",
       "      <td>...</td>\n",
       "      <td>0</td>\n",
       "      <td>0</td>\n",
       "      <td>0</td>\n",
       "      <td>2</td>\n",
       "      <td>0</td>\n",
       "      <td>0</td>\n",
       "      <td>0</td>\n",
       "      <td>0</td>\n",
       "      <td>0</td>\n",
       "      <td>Generalized Anxiety Disorder (GAD)</td>\n",
       "    </tr>\n",
       "    <tr>\n",
       "      <th>1</th>\n",
       "      <td>0</td>\n",
       "      <td>0</td>\n",
       "      <td>0</td>\n",
       "      <td>0</td>\n",
       "      <td>0</td>\n",
       "      <td>2</td>\n",
       "      <td>0</td>\n",
       "      <td>2</td>\n",
       "      <td>0</td>\n",
       "      <td>0</td>\n",
       "      <td>...</td>\n",
       "      <td>0</td>\n",
       "      <td>0</td>\n",
       "      <td>2</td>\n",
       "      <td>2</td>\n",
       "      <td>0</td>\n",
       "      <td>0</td>\n",
       "      <td>0</td>\n",
       "      <td>0</td>\n",
       "      <td>0</td>\n",
       "      <td>Major Depressive Disorder (Depression)</td>\n",
       "    </tr>\n",
       "    <tr>\n",
       "      <th>2</th>\n",
       "      <td>0</td>\n",
       "      <td>2</td>\n",
       "      <td>2</td>\n",
       "      <td>2</td>\n",
       "      <td>0</td>\n",
       "      <td>0</td>\n",
       "      <td>0</td>\n",
       "      <td>0</td>\n",
       "      <td>0</td>\n",
       "      <td>0</td>\n",
       "      <td>...</td>\n",
       "      <td>0</td>\n",
       "      <td>0</td>\n",
       "      <td>0</td>\n",
       "      <td>0</td>\n",
       "      <td>0</td>\n",
       "      <td>0</td>\n",
       "      <td>0</td>\n",
       "      <td>0</td>\n",
       "      <td>0</td>\n",
       "      <td>Panic Disorder</td>\n",
       "    </tr>\n",
       "    <tr>\n",
       "      <th>3</th>\n",
       "      <td>0</td>\n",
       "      <td>0</td>\n",
       "      <td>2</td>\n",
       "      <td>2</td>\n",
       "      <td>0</td>\n",
       "      <td>0</td>\n",
       "      <td>0</td>\n",
       "      <td>0</td>\n",
       "      <td>0</td>\n",
       "      <td>0</td>\n",
       "      <td>...</td>\n",
       "      <td>2</td>\n",
       "      <td>0</td>\n",
       "      <td>0</td>\n",
       "      <td>0</td>\n",
       "      <td>0</td>\n",
       "      <td>0</td>\n",
       "      <td>0</td>\n",
       "      <td>0</td>\n",
       "      <td>0</td>\n",
       "      <td>Post-Traumatic Stress Disorder (PTSD)</td>\n",
       "    </tr>\n",
       "    <tr>\n",
       "      <th>4</th>\n",
       "      <td>0</td>\n",
       "      <td>0</td>\n",
       "      <td>0</td>\n",
       "      <td>0</td>\n",
       "      <td>0</td>\n",
       "      <td>0</td>\n",
       "      <td>0</td>\n",
       "      <td>0</td>\n",
       "      <td>0</td>\n",
       "      <td>0</td>\n",
       "      <td>...</td>\n",
       "      <td>0</td>\n",
       "      <td>2</td>\n",
       "      <td>0</td>\n",
       "      <td>0</td>\n",
       "      <td>0</td>\n",
       "      <td>0</td>\n",
       "      <td>0</td>\n",
       "      <td>0</td>\n",
       "      <td>0</td>\n",
       "      <td>Social Anxiety Disorder</td>\n",
       "    </tr>\n",
       "  </tbody>\n",
       "</table>\n",
       "<p>5 rows × 28 columns</p>\n",
       "</div>"
      ],
      "text/plain": [
       "   Nervous  Panic  Rapid_breathing  Excessive_Sweat  Trouble_task  \\\n",
       "0        2      0                0                0             0   \n",
       "1        0      0                0                0             0   \n",
       "2        0      2                2                2             0   \n",
       "3        0      0                2                2             0   \n",
       "4        0      0                0                0             0   \n",
       "\n",
       "   Trouble_sleeping  Trouble_work  Hopeless  Angry  Over_react  ...  \\\n",
       "0                 2             2         2      0           0  ...   \n",
       "1                 2             0         2      0           0  ...   \n",
       "2                 0             0         0      0           0  ...   \n",
       "3                 0             0         0      0           0  ...   \n",
       "4                 0             0         0      0           0  ...   \n",
       "\n",
       "   Nightmare  Avoid  Feeling_negative  Trouble_concentrating  Blame_yourself  \\\n",
       "0          0      0                 0                      2               0   \n",
       "1          0      0                 2                      2               0   \n",
       "2          0      0                 0                      0               0   \n",
       "3          2      0                 0                      0               0   \n",
       "4          0      2                 0                      0               0   \n",
       "\n",
       "   Hallucinations  Repetitive_behavior  Seasonal_depression  Increase_energy  \\\n",
       "0               0                    0                    0                0   \n",
       "1               0                    0                    0                0   \n",
       "2               0                    0                    0                0   \n",
       "3               0                    0                    0                0   \n",
       "4               0                    0                    0                0   \n",
       "\n",
       "                                 Disorder  \n",
       "0      Generalized Anxiety Disorder (GAD)  \n",
       "1  Major Depressive Disorder (Depression)  \n",
       "2                          Panic Disorder  \n",
       "3   Post-Traumatic Stress Disorder (PTSD)  \n",
       "4                 Social Anxiety Disorder  \n",
       "\n",
       "[5 rows x 28 columns]"
      ]
     },
     "execution_count": 37,
     "metadata": {},
     "output_type": "execute_result"
    }
   ],
   "source": [
    "df1.head()"
   ]
  },
  {
   "cell_type": "code",
   "execution_count": 38,
   "id": "bb0e6579",
   "metadata": {},
   "outputs": [],
   "source": [
    "# Define features and target\n",
    "X_test = df.drop(['Disorder','Age'], axis=1)\n",
    "y_test = df['Disorder']\n",
    "\n",
    "X_train = df1.drop('Disorder', axis=1)\n",
    "y_train = df1['Disorder']"
   ]
  },
  {
   "cell_type": "code",
   "execution_count": 39,
   "id": "b794fedc",
   "metadata": {},
   "outputs": [],
   "source": [
    "# Initialize and train Logistic Regression model\n",
    "log_reg = LogisticRegression(multi_class='multinomial', solver='lbfgs')\n",
    "log_reg.fit(X_train, y_train)\n",
    "y_pred_log_reg = log_reg.predict(X_test)"
   ]
  },
  {
   "cell_type": "code",
   "execution_count": 40,
   "id": "c1bdfdba",
   "metadata": {},
   "outputs": [],
   "source": [
    "# Initialize and train Decision Tree model\n",
    "decision_tree = DecisionTreeClassifier(random_state=42)\n",
    "decision_tree.fit(X_train, y_train)\n",
    "y_pred_tree = decision_tree.predict(X_test)"
   ]
  },
  {
   "cell_type": "code",
   "execution_count": 41,
   "id": "a3cfc2a6",
   "metadata": {},
   "outputs": [],
   "source": [
    "# Initialize and train Random Forest model\n",
    "random_forest = RandomForestClassifier(n_estimators=100, random_state=42)\n",
    "random_forest.fit(X_train, y_train)\n",
    "y_pred_forest = random_forest.predict(X_test)"
   ]
  },
  {
   "cell_type": "code",
   "execution_count": 42,
   "id": "ee21b832",
   "metadata": {},
   "outputs": [],
   "source": [
    "# Initialize and train Support Vector Machine model\n",
    "svm = SVC(kernel='linear', random_state=42)\n",
    "svm.fit(X_train, y_train)\n",
    "y_pred_svm = svm.predict(X_test)"
   ]
  },
  {
   "cell_type": "code",
   "execution_count": 43,
   "id": "9c76ad1b",
   "metadata": {},
   "outputs": [],
   "source": [
    "# Initialize and train Gradient Boosting model\n",
    "gradient_boosting = GradientBoostingClassifier(random_state=42)\n",
    "gradient_boosting.fit(X_train, y_train)\n",
    "y_pred_gb = gradient_boosting.predict(X_test)"
   ]
  },
  {
   "cell_type": "code",
   "execution_count": 77,
   "id": "6017e012",
   "metadata": {},
   "outputs": [],
   "source": [
    "# Initialize and evaluate models with cross-validation\n",
    "models = {\n",
    "    'Logistic Regression': LogisticRegression(multi_class='multinomial', solver='lbfgs'),\n",
    "    'Decision Tree': DecisionTreeClassifier(random_state=42),\n",
    "    'Random Forest': RandomForestClassifier(n_estimators=100, random_state=42),\n",
    "    'SVM': SVC(kernel='linear', random_state=42),\n",
    "    'Gradient Boosting': GradientBoostingClassifier(random_state=42)\n",
    "}"
   ]
  },
  {
   "cell_type": "code",
   "execution_count": 78,
   "id": "9eb70fd5",
   "metadata": {},
   "outputs": [],
   "source": [
    "warnings.filterwarnings(\"ignore\")\n",
    "# Train and evaluate models on the test set\n",
    "for model_name, model in models.items():\n",
    "    model.fit(X_train, y_train)\n",
    "    y_pred = model.predict(X_test)"
   ]
  },
  {
   "cell_type": "code",
   "execution_count": 80,
   "id": "632a361f",
   "metadata": {},
   "outputs": [],
   "source": [
    "predictions = {}\n",
    "# Create a DataFrame with your predictions\n",
    "for model_name, model in models.items():\n",
    "    predictions[model_name] = y_pred\n",
    "# Create a DataFrame with the predictions\n",
    "predictions_df = pd.DataFrame(predictions)\n",
    "# Save the DataFrame to a CSV file\n",
    "predictions_df.to_csv('predictions.csv', index=False)"
   ]
  },
  {
   "cell_type": "code",
   "execution_count": 64,
   "id": "e05f6616",
   "metadata": {},
   "outputs": [
    {
     "name": "stdout",
     "output_type": "stream",
     "text": [
      "Logistic Regression :['Post-Traumatic Stress Disorder (PTSD)']\n",
      "Decision Tree :['Post-Traumatic Stress Disorder (PTSD)']\n",
      "Random Forest :['Post-Traumatic Stress Disorder (PTSD)']\n",
      "SVM :['Post-Traumatic Stress Disorder (PTSD)']\n",
      "Gradient Boosting :['Post-Traumatic Stress Disorder (PTSD)']\n"
     ]
    }
   ],
   "source": [
    "# Example usage of the prediction function\n",
    "# Replace with actual input values\n",
    "example = [[1,0,1,1,0,0,0,0,0,1,0,0,0,1,0,0,0,1,0,0,0,1,0,0,0,0,0]] # Update with actual feature values\n",
    "for model_name, model in models.items():\n",
    "    y_pred = model.predict(example)\n",
    "    print(f\"{model_name} :{y_pred}\")"
   ]
  },
  {
   "cell_type": "code",
   "execution_count": 65,
   "id": "5cb70d5c",
   "metadata": {},
   "outputs": [
    {
     "name": "stdout",
     "output_type": "stream",
     "text": [
      "Logistic Regression :['Post-Traumatic Stress Disorder (PTSD)']\n",
      "Decision Tree :['Social Anxiety Disorder']\n",
      "Random Forest :['Social Anxiety Disorder']\n",
      "SVM :['Social Anxiety Disorder']\n",
      "Gradient Boosting :['Obsessive-Compulsive Disorder (OCD)']\n"
     ]
    }
   ],
   "source": [
    "e=[[0,2,2,0,2,2,2,0,2,0,2,0,0,2,2,0,0,2,2,2,0,0,2,2,2,0,0]]\n",
    "for model_name, model in models.items():\n",
    "    y_pred = model.predict(e)\n",
    "    print(f\"{model_name} :{y_pred}\")"
   ]
  },
  {
   "cell_type": "code",
   "execution_count": 54,
   "id": "8939a6b9",
   "metadata": {},
   "outputs": [],
   "source": [
    "y = rf_model.predict(example)"
   ]
  },
  {
   "cell_type": "code",
   "execution_count": 55,
   "id": "a4fe0e38",
   "metadata": {},
   "outputs": [
    {
     "data": {
      "text/plain": [
       "array(['Generalized Anxiety Disorder (GAD)'], dtype=object)"
      ]
     },
     "execution_count": 55,
     "metadata": {},
     "output_type": "execute_result"
    }
   ],
   "source": [
    "y"
   ]
  },
  {
   "cell_type": "code",
   "execution_count": 56,
   "id": "f706f499",
   "metadata": {},
   "outputs": [
    {
     "name": "stdout",
     "output_type": "stream",
     "text": [
      "['Social Anxiety Disorder']\n"
     ]
    }
   ],
   "source": [
    "print(rf_model.predict(e))"
   ]
  },
  {
   "cell_type": "code",
   "execution_count": null,
   "id": "ad71feb3",
   "metadata": {},
   "outputs": [],
   "source": []
  },
  {
   "cell_type": "code",
   "execution_count": null,
   "id": "e5bc32e0",
   "metadata": {},
   "outputs": [],
   "source": []
  }
 ],
 "metadata": {
  "kernelspec": {
   "display_name": "Python 3 (ipykernel)",
   "language": "python",
   "name": "python3"
  },
  "language_info": {
   "codemirror_mode": {
    "name": "ipython",
    "version": 3
   },
   "file_extension": ".py",
   "mimetype": "text/x-python",
   "name": "python",
   "nbconvert_exporter": "python",
   "pygments_lexer": "ipython3",
   "version": "3.11.5"
  }
 },
 "nbformat": 4,
 "nbformat_minor": 5
}
